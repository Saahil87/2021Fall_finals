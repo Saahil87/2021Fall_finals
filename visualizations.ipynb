{
 "cells": [
  {
   "cell_type": "markdown",
   "metadata": {},
   "source": [
    "# LIFE BEYOND EARTH!\n",
    "---\n",
    "Project Members:\n",
    "1. Saahil Hiranandani(saahilh2)\n",
    "2. Manasi Karale(mkarale2)\n",
    "---"
   ]
  },
  {
   "cell_type": "markdown",
   "metadata": {},
   "source": [
    "## Hypothesis 1: All <font color='blue'>exoplanets</font> that fall in the <font color='blue'>habitable zone</font> of their system posses <font color='blue'>earth-like</font> conditions and vice-versa.\n"
   ]
  },
  {
   "attachments": {},
   "cell_type": "markdown",
   "metadata": {},
   "source": [
    "---\n",
    "1. Planets that orbit around a star outside the solar system.\n",
    "2. Orbital region around a star in which planets can posses liquid on its surface and possibly posses life.\n",
    "3. Planets whose earth similarity index is 0.6 and above - A quantitative measure of departure from a reference state, usually on a scale from zero to one."
   ]
  },
  {
   "cell_type": "code",
   "execution_count": 1,
   "metadata": {},
   "outputs": [],
   "source": [
    "import pandas as pd\n",
    "import constants as c\n",
    "import data_analysis as da\n",
    "import ipywidgets\n",
    "import matplotlib.pyplot as plt\n",
    "from matplotlib_venn import venn2\n",
    "from matplotlib_venn import venn3\n",
    "import matplotlib.patches as mpatches\n",
    "%matplotlib inline"
   ]
  },
  {
   "cell_type": "markdown",
   "metadata": {},
   "source": []
  },
  {
   "cell_type": "code",
   "execution_count": 2,
   "metadata": {},
   "outputs": [
    {
     "data": {
      "text/html": [
       "<div>\n",
       "<style scoped>\n",
       "    .dataframe tbody tr th:only-of-type {\n",
       "        vertical-align: middle;\n",
       "    }\n",
       "\n",
       "    .dataframe tbody tr th {\n",
       "        vertical-align: top;\n",
       "    }\n",
       "\n",
       "    .dataframe thead th {\n",
       "        text-align: right;\n",
       "    }\n",
       "</style>\n",
       "<table border=\"1\" class=\"dataframe\">\n",
       "  <thead>\n",
       "    <tr style=\"text-align: right;\">\n",
       "      <th></th>\n",
       "      <th>P_NAME</th>\n",
       "      <th>P_calculated_ESI</th>\n",
       "    </tr>\n",
       "  </thead>\n",
       "  <tbody>\n",
       "    <tr>\n",
       "      <th>3808</th>\n",
       "      <td>TRAPPIST-1 d</td>\n",
       "      <td>0.903853</td>\n",
       "    </tr>\n",
       "    <tr>\n",
       "      <th>3807</th>\n",
       "      <td>TRAPPIST-1 c</td>\n",
       "      <td>0.902225</td>\n",
       "    </tr>\n",
       "    <tr>\n",
       "      <th>1029</th>\n",
       "      <td>K2-18 b</td>\n",
       "      <td>0.813958</td>\n",
       "    </tr>\n",
       "    <tr>\n",
       "      <th>3809</th>\n",
       "      <td>TRAPPIST-1 e</td>\n",
       "      <td>0.813324</td>\n",
       "    </tr>\n",
       "    <tr>\n",
       "      <th>2890</th>\n",
       "      <td>Kepler-413 b</td>\n",
       "      <td>0.793707</td>\n",
       "    </tr>\n",
       "    <tr>\n",
       "      <th>...</th>\n",
       "      <td>...</td>\n",
       "      <td>...</td>\n",
       "    </tr>\n",
       "    <tr>\n",
       "      <th>1544</th>\n",
       "      <td>Kepler-1142 b</td>\n",
       "      <td>0.000000</td>\n",
       "    </tr>\n",
       "    <tr>\n",
       "      <th>1545</th>\n",
       "      <td>Kepler-1143 b</td>\n",
       "      <td>0.000000</td>\n",
       "    </tr>\n",
       "    <tr>\n",
       "      <th>1546</th>\n",
       "      <td>Kepler-1143 c</td>\n",
       "      <td>0.000000</td>\n",
       "    </tr>\n",
       "    <tr>\n",
       "      <th>1547</th>\n",
       "      <td>Kepler-1144 b</td>\n",
       "      <td>0.000000</td>\n",
       "    </tr>\n",
       "    <tr>\n",
       "      <th>4047</th>\n",
       "      <td>GJ 1061 d</td>\n",
       "      <td>0.000000</td>\n",
       "    </tr>\n",
       "  </tbody>\n",
       "</table>\n",
       "<p>4048 rows × 2 columns</p>\n",
       "</div>"
      ],
      "text/plain": [
       "             P_NAME  P_calculated_ESI\n",
       "3808   TRAPPIST-1 d          0.903853\n",
       "3807   TRAPPIST-1 c          0.902225\n",
       "1029        K2-18 b          0.813958\n",
       "3809   TRAPPIST-1 e          0.813324\n",
       "2890   Kepler-413 b          0.793707\n",
       "...             ...               ...\n",
       "1544  Kepler-1142 b          0.000000\n",
       "1545  Kepler-1143 b          0.000000\n",
       "1546  Kepler-1143 c          0.000000\n",
       "1547  Kepler-1144 b          0.000000\n",
       "4047      GJ 1061 d          0.000000\n",
       "\n",
       "[4048 rows x 2 columns]"
      ]
     },
     "execution_count": 2,
     "metadata": {},
     "output_type": "execute_result"
    }
   ],
   "source": [
    "all_exoplanets_with_esi = da.calculate_ESI(\n",
    "    da.create_exoplanets_catalog(\".\\\\data\\\\phl_exoplanet_catalog.csv\")\n",
    ")\n",
    "all_exoplanets_with_esi[['P_NAME','P_calculated_ESI']].sort_values(by=['P_calculated_ESI'], ascending=False)"
   ]
  },
  {
   "cell_type": "code",
   "execution_count": 3,
   "metadata": {},
   "outputs": [
    {
     "data": {
      "text/html": [
       "<div>\n",
       "<style scoped>\n",
       "    .dataframe tbody tr th:only-of-type {\n",
       "        vertical-align: middle;\n",
       "    }\n",
       "\n",
       "    .dataframe tbody tr th {\n",
       "        vertical-align: top;\n",
       "    }\n",
       "\n",
       "    .dataframe thead th {\n",
       "        text-align: right;\n",
       "    }\n",
       "</style>\n",
       "<table border=\"1\" class=\"dataframe\">\n",
       "  <thead>\n",
       "    <tr style=\"text-align: right;\">\n",
       "      <th></th>\n",
       "      <th>P_NAME</th>\n",
       "      <th>P_DISTANCE</th>\n",
       "      <th>S_HZ_OPT_MIN</th>\n",
       "      <th>S_HZ_OPT_MAX</th>\n",
       "      <th>P_calculated_ESI</th>\n",
       "    </tr>\n",
       "  </thead>\n",
       "  <tbody>\n",
       "    <tr>\n",
       "      <th>3808</th>\n",
       "      <td>TRAPPIST-1 d</td>\n",
       "      <td>0.021493</td>\n",
       "      <td>0.019436</td>\n",
       "      <td>0.052568</td>\n",
       "      <td>0.903853</td>\n",
       "    </tr>\n",
       "    <tr>\n",
       "      <th>1029</th>\n",
       "      <td>K2-18 b</td>\n",
       "      <td>0.145758</td>\n",
       "      <td>0.120021</td>\n",
       "      <td>0.312115</td>\n",
       "      <td>0.813958</td>\n",
       "    </tr>\n",
       "    <tr>\n",
       "      <th>3809</th>\n",
       "      <td>TRAPPIST-1 e</td>\n",
       "      <td>0.028272</td>\n",
       "      <td>0.019436</td>\n",
       "      <td>0.052568</td>\n",
       "      <td>0.813324</td>\n",
       "    </tr>\n",
       "    <tr>\n",
       "      <th>3663</th>\n",
       "      <td>LHS 1140 b</td>\n",
       "      <td>0.093768</td>\n",
       "      <td>0.053340</td>\n",
       "      <td>0.140342</td>\n",
       "      <td>0.708638</td>\n",
       "    </tr>\n",
       "    <tr>\n",
       "      <th>3810</th>\n",
       "      <td>TRAPPIST-1 f</td>\n",
       "      <td>0.037174</td>\n",
       "      <td>0.019436</td>\n",
       "      <td>0.052568</td>\n",
       "      <td>0.695922</td>\n",
       "    </tr>\n",
       "    <tr>\n",
       "      <th>...</th>\n",
       "      <td>...</td>\n",
       "      <td>...</td>\n",
       "      <td>...</td>\n",
       "      <td>...</td>\n",
       "      <td>...</td>\n",
       "    </tr>\n",
       "    <tr>\n",
       "      <th>658</th>\n",
       "      <td>HD 221585 b</td>\n",
       "      <td>2.323444</td>\n",
       "      <td>1.219834</td>\n",
       "      <td>2.886608</td>\n",
       "      <td>0.000000</td>\n",
       "    </tr>\n",
       "    <tr>\n",
       "      <th>661</th>\n",
       "      <td>HD 222582 b</td>\n",
       "      <td>1.697043</td>\n",
       "      <td>0.850349</td>\n",
       "      <td>2.002759</td>\n",
       "      <td>0.000000</td>\n",
       "    </tr>\n",
       "    <tr>\n",
       "      <th>662</th>\n",
       "      <td>HD 224538 b</td>\n",
       "      <td>2.525437</td>\n",
       "      <td>1.261261</td>\n",
       "      <td>2.948968</td>\n",
       "      <td>0.000000</td>\n",
       "    </tr>\n",
       "    <tr>\n",
       "      <th>665</th>\n",
       "      <td>HD 23079 b</td>\n",
       "      <td>1.608000</td>\n",
       "      <td>0.847670</td>\n",
       "      <td>1.987366</td>\n",
       "      <td>0.000000</td>\n",
       "    </tr>\n",
       "    <tr>\n",
       "      <th>4047</th>\n",
       "      <td>GJ 1061 d</td>\n",
       "      <td>0.054000</td>\n",
       "      <td>0.033497</td>\n",
       "      <td>0.089216</td>\n",
       "      <td>0.000000</td>\n",
       "    </tr>\n",
       "  </tbody>\n",
       "</table>\n",
       "<p>197 rows × 5 columns</p>\n",
       "</div>"
      ],
      "text/plain": [
       "            P_NAME  P_DISTANCE  S_HZ_OPT_MIN  S_HZ_OPT_MAX  P_calculated_ESI\n",
       "3808  TRAPPIST-1 d    0.021493      0.019436      0.052568          0.903853\n",
       "1029       K2-18 b    0.145758      0.120021      0.312115          0.813958\n",
       "3809  TRAPPIST-1 e    0.028272      0.019436      0.052568          0.813324\n",
       "3663    LHS 1140 b    0.093768      0.053340      0.140342          0.708638\n",
       "3810  TRAPPIST-1 f    0.037174      0.019436      0.052568          0.695922\n",
       "...            ...         ...           ...           ...               ...\n",
       "658    HD 221585 b    2.323444      1.219834      2.886608          0.000000\n",
       "661    HD 222582 b    1.697043      0.850349      2.002759          0.000000\n",
       "662    HD 224538 b    2.525437      1.261261      2.948968          0.000000\n",
       "665     HD 23079 b    1.608000      0.847670      1.987366          0.000000\n",
       "4047     GJ 1061 d    0.054000      0.033497      0.089216          0.000000\n",
       "\n",
       "[197 rows x 5 columns]"
      ]
     },
     "execution_count": 3,
     "metadata": {},
     "output_type": "execute_result"
    }
   ],
   "source": [
    "planets_in_habitable_zone = da.get_habitable_zone_planets(all_exoplanets_with_esi)\n",
    "planets_in_habitable_zone[['P_NAME', \n",
    "                           'P_DISTANCE', \n",
    "                           'S_HZ_OPT_MIN', \n",
    "                           'S_HZ_OPT_MAX',\n",
    "                           'P_calculated_ESI']].sort_values(by=['P_calculated_ESI'], ascending=False)"
   ]
  },
  {
   "cell_type": "code",
   "execution_count": 4,
   "metadata": {},
   "outputs": [
    {
     "data": {
      "image/png": "[encoded data removed]",
      "text/plain": [
       "<Figure size 720x720 with 1 Axes>"
      ]
     },
     "metadata": {},
     "output_type": "display_data"
    }
   ],
   "source": [
    "plt.figure(figsize=(10,10))\n",
    "venn2([set(da.identify_habitability_type(planets_in_habitable_zone)[0]['P_NAME'].to_list()), \n",
    "       set(da.identify_habitability_type(planets_in_habitable_zone)[1]['P_NAME'].to_list())],\n",
    "       set_labels=('Conservative Planets', 'Optimistic Planets')\n",
    "     )\n",
    "plt.show()"
   ]
  },
  {
   "cell_type": "code",
   "execution_count": 5,
   "metadata": {},
   "outputs": [
    {
     "data": {
      "text/plain": [
       "{'GJ 273 b',\n",
       " 'GJ 667 C c',\n",
       " 'K2-288 B b',\n",
       " 'K2-296 b',\n",
       " 'K2-3 d',\n",
       " 'Kepler-1410 b',\n",
       " 'Kepler-1544 b',\n",
       " 'Kepler-1606 b',\n",
       " 'Kepler-1638 b',\n",
       " 'Kepler-1652 b',\n",
       " 'Kepler-283 c',\n",
       " 'Kepler-296 e',\n",
       " 'Kepler-296 f',\n",
       " 'Kepler-440 b',\n",
       " 'Kepler-452 b',\n",
       " 'Kepler-62 e',\n",
       " 'Wolf 1061 c',\n",
       " 'tau Cet e'}"
      ]
     },
     "execution_count": 5,
     "metadata": {},
     "output_type": "execute_result"
    }
   ],
   "source": [
    "set(da.identify_habitability_type(planets_in_habitable_zone)[0]['P_NAME'].to_list()).intersection(\n",
    "set(da.identify_habitability_type(planets_in_habitable_zone)[1]['P_NAME'].to_list()))"
   ]
  },
  {
   "cell_type": "code",
   "execution_count": 6,
   "metadata": {},
   "outputs": [
    {
     "data": {
      "text/html": [
       "<div>\n",
       "<style scoped>\n",
       "    .dataframe tbody tr th:only-of-type {\n",
       "        vertical-align: middle;\n",
       "    }\n",
       "\n",
       "    .dataframe tbody tr th {\n",
       "        vertical-align: top;\n",
       "    }\n",
       "\n",
       "    .dataframe thead th {\n",
       "        text-align: right;\n",
       "    }\n",
       "</style>\n",
       "<table border=\"1\" class=\"dataframe\">\n",
       "  <thead>\n",
       "    <tr style=\"text-align: right;\">\n",
       "      <th></th>\n",
       "      <th>P_NAME</th>\n",
       "      <th>P_calculated_ESI</th>\n",
       "    </tr>\n",
       "  </thead>\n",
       "  <tbody>\n",
       "    <tr>\n",
       "      <th>3808</th>\n",
       "      <td>TRAPPIST-1 d</td>\n",
       "      <td>0.903853</td>\n",
       "    </tr>\n",
       "    <tr>\n",
       "      <th>3807</th>\n",
       "      <td>TRAPPIST-1 c</td>\n",
       "      <td>0.902225</td>\n",
       "    </tr>\n",
       "    <tr>\n",
       "      <th>1029</th>\n",
       "      <td>K2-18 b</td>\n",
       "      <td>0.813958</td>\n",
       "    </tr>\n",
       "    <tr>\n",
       "      <th>3809</th>\n",
       "      <td>TRAPPIST-1 e</td>\n",
       "      <td>0.813324</td>\n",
       "    </tr>\n",
       "    <tr>\n",
       "      <th>2890</th>\n",
       "      <td>Kepler-413 b</td>\n",
       "      <td>0.793707</td>\n",
       "    </tr>\n",
       "    <tr>\n",
       "      <th>1851</th>\n",
       "      <td>Kepler-138 c</td>\n",
       "      <td>0.791120</td>\n",
       "    </tr>\n",
       "    <tr>\n",
       "      <th>3806</th>\n",
       "      <td>TRAPPIST-1 b</td>\n",
       "      <td>0.771585</td>\n",
       "    </tr>\n",
       "    <tr>\n",
       "      <th>1852</th>\n",
       "      <td>Kepler-138 d</td>\n",
       "      <td>0.768840</td>\n",
       "    </tr>\n",
       "    <tr>\n",
       "      <th>3664</th>\n",
       "      <td>LHS 1140 c</td>\n",
       "      <td>0.761213</td>\n",
       "    </tr>\n",
       "    <tr>\n",
       "      <th>3667</th>\n",
       "      <td>LTT 1445 A b</td>\n",
       "      <td>0.748333</td>\n",
       "    </tr>\n",
       "    <tr>\n",
       "      <th>3663</th>\n",
       "      <td>LHS 1140 b</td>\n",
       "      <td>0.708638</td>\n",
       "    </tr>\n",
       "    <tr>\n",
       "      <th>3810</th>\n",
       "      <td>TRAPPIST-1 f</td>\n",
       "      <td>0.695922</td>\n",
       "    </tr>\n",
       "    <tr>\n",
       "      <th>1489</th>\n",
       "      <td>Kepler-11 g</td>\n",
       "      <td>0.694571</td>\n",
       "    </tr>\n",
       "    <tr>\n",
       "      <th>3811</th>\n",
       "      <td>TRAPPIST-1 g</td>\n",
       "      <td>0.693644</td>\n",
       "    </tr>\n",
       "    <tr>\n",
       "      <th>135</th>\n",
       "      <td>GJ 143 b</td>\n",
       "      <td>0.687067</td>\n",
       "    </tr>\n",
       "    <tr>\n",
       "      <th>1146</th>\n",
       "      <td>K2-263 b</td>\n",
       "      <td>0.663082</td>\n",
       "    </tr>\n",
       "    <tr>\n",
       "      <th>157</th>\n",
       "      <td>GJ 357 b</td>\n",
       "      <td>0.654383</td>\n",
       "    </tr>\n",
       "    <tr>\n",
       "      <th>2986</th>\n",
       "      <td>Kepler-48 d</td>\n",
       "      <td>0.653588</td>\n",
       "    </tr>\n",
       "    <tr>\n",
       "      <th>2310</th>\n",
       "      <td>Kepler-20 d</td>\n",
       "      <td>0.651218</td>\n",
       "    </tr>\n",
       "    <tr>\n",
       "      <th>2488</th>\n",
       "      <td>Kepler-26 c</td>\n",
       "      <td>0.641576</td>\n",
       "    </tr>\n",
       "    <tr>\n",
       "      <th>830</th>\n",
       "      <td>HD 80606 b</td>\n",
       "      <td>0.636489</td>\n",
       "    </tr>\n",
       "    <tr>\n",
       "      <th>3066</th>\n",
       "      <td>Kepler-539 b</td>\n",
       "      <td>0.628438</td>\n",
       "    </tr>\n",
       "    <tr>\n",
       "      <th>1153</th>\n",
       "      <td>K2-266 e</td>\n",
       "      <td>0.619196</td>\n",
       "    </tr>\n",
       "    <tr>\n",
       "      <th>981</th>\n",
       "      <td>K2-146 c</td>\n",
       "      <td>0.617501</td>\n",
       "    </tr>\n",
       "    <tr>\n",
       "      <th>1337</th>\n",
       "      <td>KOI-3680 b</td>\n",
       "      <td>0.607695</td>\n",
       "    </tr>\n",
       "    <tr>\n",
       "      <th>1179</th>\n",
       "      <td>K2-285 e</td>\n",
       "      <td>0.603094</td>\n",
       "    </tr>\n",
       "    <tr>\n",
       "      <th>1850</th>\n",
       "      <td>Kepler-138 b</td>\n",
       "      <td>0.601465</td>\n",
       "    </tr>\n",
       "  </tbody>\n",
       "</table>\n",
       "</div>"
      ],
      "text/plain": [
       "            P_NAME  P_calculated_ESI\n",
       "3808  TRAPPIST-1 d          0.903853\n",
       "3807  TRAPPIST-1 c          0.902225\n",
       "1029       K2-18 b          0.813958\n",
       "3809  TRAPPIST-1 e          0.813324\n",
       "2890  Kepler-413 b          0.793707\n",
       "1851  Kepler-138 c          0.791120\n",
       "3806  TRAPPIST-1 b          0.771585\n",
       "1852  Kepler-138 d          0.768840\n",
       "3664    LHS 1140 c          0.761213\n",
       "3667  LTT 1445 A b          0.748333\n",
       "3663    LHS 1140 b          0.708638\n",
       "3810  TRAPPIST-1 f          0.695922\n",
       "1489   Kepler-11 g          0.694571\n",
       "3811  TRAPPIST-1 g          0.693644\n",
       "135       GJ 143 b          0.687067\n",
       "1146      K2-263 b          0.663082\n",
       "157       GJ 357 b          0.654383\n",
       "2986   Kepler-48 d          0.653588\n",
       "2310   Kepler-20 d          0.651218\n",
       "2488   Kepler-26 c          0.641576\n",
       "830     HD 80606 b          0.636489\n",
       "3066  Kepler-539 b          0.628438\n",
       "1153      K2-266 e          0.619196\n",
       "981       K2-146 c          0.617501\n",
       "1337    KOI-3680 b          0.607695\n",
       "1179      K2-285 e          0.603094\n",
       "1850  Kepler-138 b          0.601465"
      ]
     },
     "execution_count": 6,
     "metadata": {},
     "output_type": "execute_result"
    }
   ],
   "source": [
    "potentially_habitable_exoplanets = da.get_potentially_habitable_exoplanets(all_exoplanets_with_esi)\n",
    "potentially_habitable_exoplanets[['P_NAME','P_calculated_ESI']].sort_values(by=['P_calculated_ESI'], ascending=False)"
   ]
  },
  {
   "cell_type": "code",
   "execution_count": 7,
   "metadata": {},
   "outputs": [
    {
     "data": {
      "image/png": "[encoded data removed]",
      "text/plain": [
       "<Figure size 720x720 with 1 Axes>"
      ]
     },
     "metadata": {},
     "output_type": "display_data"
    }
   ],
   "source": [
    "plt.figure(figsize=(10,10))\n",
    "plt.title('Hypothesis 1: Proved False - All exoplanets that fall in the habitable zone of their system posses earth-like conditions and vice-versa.')\n",
    "venn2([set(planets_in_habitable_zone['P_NAME'].to_list()), \n",
    "       set(potentially_habitable_exoplanets['P_NAME'].to_list())],\n",
    "       set_labels=('Planets in Habitable Zone', 'Earth like planets')\n",
    "     )\n",
    "plt.show()"
   ]
  },
  {
   "cell_type": "code",
   "execution_count": 8,
   "metadata": {},
   "outputs": [
    {
     "data": {
      "text/plain": [
       "{'K2-18 b',\n",
       " 'LHS 1140 b',\n",
       " 'TRAPPIST-1 d',\n",
       " 'TRAPPIST-1 e',\n",
       " 'TRAPPIST-1 f',\n",
       " 'TRAPPIST-1 g'}"
      ]
     },
     "execution_count": 8,
     "metadata": {},
     "output_type": "execute_result"
    }
   ],
   "source": [
    "set(planets_in_habitable_zone['P_NAME'].to_list()).intersection(set(potentially_habitable_exoplanets['P_NAME'].to_list()))"
   ]
  },
  {
   "cell_type": "code",
   "execution_count": 9,
   "metadata": {},
   "outputs": [],
   "source": [
    "frames = [planets_in_habitable_zone, potentially_habitable_exoplanets]\n",
    "combined_planets = pd.concat(frames).drop_duplicates().reset_index(drop=True)\n",
    "combined_planets = combined_planets.sort_values(by=['S_HZ_OPT_MAX'], ascending=True)"
   ]
  },
  {
   "cell_type": "code",
   "execution_count": 10,
   "metadata": {},
   "outputs": [
    {
     "data": {
      "application/vnd.jupyter.widget-view+json": {
       "model_id": "be13bf2fdcb341c3beac10988143e3b5",
       "version_major": 2,
       "version_minor": 0
      },
      "text/plain": [
       "interactive(children=(Dropdown(description='planet_name', options=('TRAPPIST-1 c', 'TRAPPIST-1 f', 'TRAPPIST-1…"
      ]
     },
     "metadata": {},
     "output_type": "display_data"
    }
   ],
   "source": [
    "@ipywidgets.interact(planet_name = combined_planets['P_NAME'].tolist(), value='')\n",
    "def plot_habitable_zone(planet_name):\n",
    "    planet_values = combined_planets.loc[combined_planets['P_NAME']==planet_name]\n",
    "    figure, axes = plt.subplots(figsize=(10,10))\n",
    "    plt.axis([0,2,0,2])\n",
    "    star_position = plt.Circle(\n",
    "        (1, 1),\n",
    "        planet_values['S_RADIUS_EST'] * 0.00465047,\n",
    "        color='k') \n",
    "    planet_orbit = plt.Circle(\n",
    "        (1, 1),\n",
    "        planet_values['P_DISTANCE'],\n",
    "        color='r',\n",
    "        fill = False,\n",
    "        linewidth=4) \n",
    "    inner_edge_optimistic = plt.Circle(\n",
    "        (1, 1),\n",
    "        planet_values['S_HZ_OPT_MIN'],\n",
    "        color='g',\n",
    "        fill = False) \n",
    "    inner_edge_conservative = plt.Circle(\n",
    "        (1, 1),\n",
    "        planet_values['S_HZ_CON_MIN'],\n",
    "        color='b',\n",
    "        fill = False) \n",
    "    outer_edge_conservative = plt.Circle(\n",
    "        (1, 1),\n",
    "        planet_values['S_HZ_CON_MAX'],\n",
    "        color='b',\n",
    "        fill = False) \n",
    "    outer_edge_optimistic = plt.Circle(\n",
    "        (1, 1),\n",
    "        planet_values['S_HZ_OPT_MAX'],\n",
    "        color='g',\n",
    "        fill = False) \n",
    "    axes.set_aspect(1)\n",
    "    axes.add_artist(star_position)\n",
    "    axes.add_artist(planet_orbit)\n",
    "    axes.add_artist(inner_edge_optimistic)\n",
    "    axes.add_artist(inner_edge_conservative)\n",
    "    axes.add_artist(outer_edge_conservative)\n",
    "    axes.add_artist(outer_edge_optimistic)\n",
    "    black_patch = mpatches.Patch(color='black', label='Star')\n",
    "    red_patch = mpatches.Patch(color='red', label='Planet Orbit')\n",
    "    green_patch = mpatches.Patch(color='green', label='Optimistic zone')\n",
    "    blue_patch = mpatches.Patch(color='blue', label='Conservative zone')\n",
    "    figure.legend(handles=[red_patch, blue_patch, black_patch, green_patch])\n",
    "    plt.title(planet_name)\n",
    "    plt.axis('off')\n",
    "    plt.show()"
   ]
  },
  {
   "cell_type": "code",
   "execution_count": 11,
   "metadata": {},
   "outputs": [
    {
     "data": {
      "text/html": [
       "<div>\n",
       "<style scoped>\n",
       "    .dataframe tbody tr th:only-of-type {\n",
       "        vertical-align: middle;\n",
       "    }\n",
       "\n",
       "    .dataframe tbody tr th {\n",
       "        vertical-align: top;\n",
       "    }\n",
       "\n",
       "    .dataframe thead th {\n",
       "        text-align: right;\n",
       "    }\n",
       "</style>\n",
       "<table border=\"1\" class=\"dataframe\">\n",
       "  <thead>\n",
       "    <tr style=\"text-align: right;\">\n",
       "      <th></th>\n",
       "      <th>P_NAME</th>\n",
       "      <th>P_MASS</th>\n",
       "      <th>P_RADIUS</th>\n",
       "      <th>P_TEMP_MEASURED</th>\n",
       "      <th>S_NAME</th>\n",
       "      <th>P_ESCAPE</th>\n",
       "      <th>P_DENSITY</th>\n",
       "      <th>P_DISTANCE</th>\n",
       "      <th>P_FLUX</th>\n",
       "      <th>P_TEMP_EQUIL</th>\n",
       "      <th>...</th>\n",
       "      <th>P_TEMP_EQUIL_MAX</th>\n",
       "      <th>S_RADIUS_EST</th>\n",
       "      <th>S_HZ_OPT_MIN</th>\n",
       "      <th>S_HZ_OPT_MAX</th>\n",
       "      <th>S_HZ_CON_MIN</th>\n",
       "      <th>S_HZ_CON_MAX</th>\n",
       "      <th>P_HABITABLE</th>\n",
       "      <th>P_RADIUS_EST</th>\n",
       "      <th>P_MASS_EST</th>\n",
       "      <th>P_calculated_ESI</th>\n",
       "    </tr>\n",
       "  </thead>\n",
       "  <tbody>\n",
       "    <tr>\n",
       "      <th>0</th>\n",
       "      <td>K2-18 b</td>\n",
       "      <td>8.921432</td>\n",
       "      <td>2.36531</td>\n",
       "      <td>0.0</td>\n",
       "      <td>K2-18</td>\n",
       "      <td>1.942107</td>\n",
       "      <td>0.674171</td>\n",
       "      <td>0.145758</td>\n",
       "      <td>1.075112</td>\n",
       "      <td>257.45111</td>\n",
       "      <td>...</td>\n",
       "      <td>288.56740</td>\n",
       "      <td>0.41</td>\n",
       "      <td>0.120021</td>\n",
       "      <td>0.312115</td>\n",
       "      <td>0.152023</td>\n",
       "      <td>0.295907</td>\n",
       "      <td>2</td>\n",
       "      <td>2.36531</td>\n",
       "      <td>8.921432</td>\n",
       "      <td>0.813958</td>\n",
       "    </tr>\n",
       "    <tr>\n",
       "      <th>1</th>\n",
       "      <td>LHS 1140 b</td>\n",
       "      <td>6.979503</td>\n",
       "      <td>1.72634</td>\n",
       "      <td>0.0</td>\n",
       "      <td>LHS 1140</td>\n",
       "      <td>2.010708</td>\n",
       "      <td>1.356580</td>\n",
       "      <td>0.093768</td>\n",
       "      <td>0.483307</td>\n",
       "      <td>212.27899</td>\n",
       "      <td>...</td>\n",
       "      <td>218.99838</td>\n",
       "      <td>0.21</td>\n",
       "      <td>0.053340</td>\n",
       "      <td>0.140342</td>\n",
       "      <td>0.067563</td>\n",
       "      <td>0.133053</td>\n",
       "      <td>2</td>\n",
       "      <td>1.72634</td>\n",
       "      <td>6.979503</td>\n",
       "      <td>0.708638</td>\n",
       "    </tr>\n",
       "    <tr>\n",
       "      <th>2</th>\n",
       "      <td>TRAPPIST-1 d</td>\n",
       "      <td>0.409998</td>\n",
       "      <td>0.77349</td>\n",
       "      <td>0.0</td>\n",
       "      <td>TRAPPIST-1</td>\n",
       "      <td>0.728054</td>\n",
       "      <td>0.885967</td>\n",
       "      <td>0.021493</td>\n",
       "      <td>1.206561</td>\n",
       "      <td>266.76719</td>\n",
       "      <td>...</td>\n",
       "      <td>276.70953</td>\n",
       "      <td>0.12</td>\n",
       "      <td>0.019436</td>\n",
       "      <td>0.052568</td>\n",
       "      <td>0.024618</td>\n",
       "      <td>0.049836</td>\n",
       "      <td>1</td>\n",
       "      <td>0.77349</td>\n",
       "      <td>0.409998</td>\n",
       "      <td>0.903853</td>\n",
       "    </tr>\n",
       "    <tr>\n",
       "      <th>3</th>\n",
       "      <td>TRAPPIST-1 e</td>\n",
       "      <td>0.619765</td>\n",
       "      <td>0.91922</td>\n",
       "      <td>0.0</td>\n",
       "      <td>TRAPPIST-1</td>\n",
       "      <td>0.821114</td>\n",
       "      <td>0.797937</td>\n",
       "      <td>0.028272</td>\n",
       "      <td>0.699734</td>\n",
       "      <td>232.69554</td>\n",
       "      <td>...</td>\n",
       "      <td>243.37390</td>\n",
       "      <td>0.12</td>\n",
       "      <td>0.019436</td>\n",
       "      <td>0.052568</td>\n",
       "      <td>0.024618</td>\n",
       "      <td>0.049836</td>\n",
       "      <td>1</td>\n",
       "      <td>0.91922</td>\n",
       "      <td>0.619765</td>\n",
       "      <td>0.813324</td>\n",
       "    </tr>\n",
       "    <tr>\n",
       "      <th>4</th>\n",
       "      <td>TRAPPIST-1 f</td>\n",
       "      <td>0.680152</td>\n",
       "      <td>1.04253</td>\n",
       "      <td>0.0</td>\n",
       "      <td>TRAPPIST-1</td>\n",
       "      <td>0.807716</td>\n",
       "      <td>0.600261</td>\n",
       "      <td>0.037174</td>\n",
       "      <td>0.402762</td>\n",
       "      <td>202.80710</td>\n",
       "      <td>...</td>\n",
       "      <td>209.56620</td>\n",
       "      <td>0.12</td>\n",
       "      <td>0.019436</td>\n",
       "      <td>0.052568</td>\n",
       "      <td>0.024618</td>\n",
       "      <td>0.049836</td>\n",
       "      <td>1</td>\n",
       "      <td>1.04253</td>\n",
       "      <td>0.680152</td>\n",
       "      <td>0.695922</td>\n",
       "    </tr>\n",
       "    <tr>\n",
       "      <th>5</th>\n",
       "      <td>TRAPPIST-1 g</td>\n",
       "      <td>1.341234</td>\n",
       "      <td>1.13221</td>\n",
       "      <td>0.0</td>\n",
       "      <td>TRAPPIST-1</td>\n",
       "      <td>1.088401</td>\n",
       "      <td>0.924110</td>\n",
       "      <td>0.045184</td>\n",
       "      <td>0.272514</td>\n",
       "      <td>183.94526</td>\n",
       "      <td>...</td>\n",
       "      <td>189.87025</td>\n",
       "      <td>0.12</td>\n",
       "      <td>0.019436</td>\n",
       "      <td>0.052568</td>\n",
       "      <td>0.024618</td>\n",
       "      <td>0.049836</td>\n",
       "      <td>1</td>\n",
       "      <td>1.13221</td>\n",
       "      <td>1.341234</td>\n",
       "      <td>0.693644</td>\n",
       "    </tr>\n",
       "  </tbody>\n",
       "</table>\n",
       "<p>6 rows × 21 columns</p>\n",
       "</div>"
      ],
      "text/plain": [
       "         P_NAME    P_MASS  P_RADIUS  P_TEMP_MEASURED      S_NAME  P_ESCAPE  \\\n",
       "0       K2-18 b  8.921432   2.36531              0.0       K2-18  1.942107   \n",
       "1    LHS 1140 b  6.979503   1.72634              0.0    LHS 1140  2.010708   \n",
       "2  TRAPPIST-1 d  0.409998   0.77349              0.0  TRAPPIST-1  0.728054   \n",
       "3  TRAPPIST-1 e  0.619765   0.91922              0.0  TRAPPIST-1  0.821114   \n",
       "4  TRAPPIST-1 f  0.680152   1.04253              0.0  TRAPPIST-1  0.807716   \n",
       "5  TRAPPIST-1 g  1.341234   1.13221              0.0  TRAPPIST-1  1.088401   \n",
       "\n",
       "   P_DENSITY  P_DISTANCE    P_FLUX  P_TEMP_EQUIL  ...  P_TEMP_EQUIL_MAX  \\\n",
       "0   0.674171    0.145758  1.075112     257.45111  ...         288.56740   \n",
       "1   1.356580    0.093768  0.483307     212.27899  ...         218.99838   \n",
       "2   0.885967    0.021493  1.206561     266.76719  ...         276.70953   \n",
       "3   0.797937    0.028272  0.699734     232.69554  ...         243.37390   \n",
       "4   0.600261    0.037174  0.402762     202.80710  ...         209.56620   \n",
       "5   0.924110    0.045184  0.272514     183.94526  ...         189.87025   \n",
       "\n",
       "   S_RADIUS_EST  S_HZ_OPT_MIN  S_HZ_OPT_MAX  S_HZ_CON_MIN  S_HZ_CON_MAX  \\\n",
       "0          0.41      0.120021      0.312115      0.152023      0.295907   \n",
       "1          0.21      0.053340      0.140342      0.067563      0.133053   \n",
       "2          0.12      0.019436      0.052568      0.024618      0.049836   \n",
       "3          0.12      0.019436      0.052568      0.024618      0.049836   \n",
       "4          0.12      0.019436      0.052568      0.024618      0.049836   \n",
       "5          0.12      0.019436      0.052568      0.024618      0.049836   \n",
       "\n",
       "   P_HABITABLE  P_RADIUS_EST  P_MASS_EST  P_calculated_ESI  \n",
       "0            2       2.36531    8.921432          0.813958  \n",
       "1            2       1.72634    6.979503          0.708638  \n",
       "2            1       0.77349    0.409998          0.903853  \n",
       "3            1       0.91922    0.619765          0.813324  \n",
       "4            1       1.04253    0.680152          0.695922  \n",
       "5            1       1.13221    1.341234          0.693644  \n",
       "\n",
       "[6 rows x 21 columns]"
      ]
     },
     "execution_count": 11,
     "metadata": {},
     "output_type": "execute_result"
    }
   ],
   "source": [
    "common_planets = pd.merge(planets_in_habitable_zone, potentially_habitable_exoplanets, how ='inner', left_on=['P_NAME', 'P_MASS', 'P_RADIUS', 'P_TEMP_MEASURED', 'P_ESCAPE', 'P_DENSITY', 'P_DISTANCE',\n",
    "                        'P_FLUX', 'P_TEMP_EQUIL', 'P_TEMP_EQUIL_MIN', 'P_TEMP_EQUIL_MAX', 'S_RADIUS_EST',\n",
    "                        'S_NAME', 'S_HZ_OPT_MIN', 'S_HZ_OPT_MAX', 'S_HZ_CON_MIN', 'S_HZ_CON_MAX',\n",
    "                        'P_HABITABLE', 'P_RADIUS_EST', 'P_MASS_EST', 'P_calculated_ESI'], right_on=['P_NAME', 'P_MASS', 'P_RADIUS', 'P_TEMP_MEASURED', 'P_ESCAPE', 'P_DENSITY', 'P_DISTANCE',\n",
    "                        'P_FLUX', 'P_TEMP_EQUIL', 'P_TEMP_EQUIL_MIN', 'P_TEMP_EQUIL_MAX', 'S_RADIUS_EST',\n",
    "                        'S_NAME', 'S_HZ_OPT_MIN', 'S_HZ_OPT_MAX', 'S_HZ_CON_MIN', 'S_HZ_CON_MAX',\n",
    "                        'P_HABITABLE', 'P_RADIUS_EST', 'P_MASS_EST', 'P_calculated_ESI'])\n",
    "common_planets"
   ]
  },
  {
   "cell_type": "markdown",
   "metadata": {},
   "source": [
    "---\n",
    "---\n",
    "---"
   ]
  },
  {
   "cell_type": "markdown",
   "metadata": {},
   "source": [
    "## Hypothesis 2: If any of the exoplanets possesses similar conditions in which an Extremophile can survive, then those planets could potentially host life.\n",
    "\n",
    "Based on the analysis done in Hypothesis one, we have all potentially habitable planets which in theory should sustain life."
   ]
  },
  {
   "cell_type": "code",
   "execution_count": 12,
   "metadata": {
    "pycharm": {
     "name": "#%%\n"
    }
   },
   "outputs": [],
   "source": [
    "import data_analysis\n",
    "import pandas as pd\n",
    "from matplotlib import pyplot as plt\n",
    "import numpy as np\n",
    "import matplotlib_venn as vplt\n",
    "pd.set_option('max_colwidth', 800)\n",
    "import warnings\n",
    "warnings.filterwarnings(\"ignore\", message=\"Glyph 13 missing from current font.\")"
   ]
  },
  {
   "cell_type": "markdown",
   "metadata": {},
   "source": [
    "Extracting data from the analysis to get extremophiles that can survive extreme Temperatures, Pressures and Radiation."
   ]
  },
  {
   "cell_type": "code",
   "execution_count": 13,
   "metadata": {
    "pycharm": {
     "name": "#%%\n"
    }
   },
   "outputs": [],
   "source": [
    "# exoplanets_catalog_esi = data_analysis.calculate_ESI(data_analysis.create_exoplanets_catalog(\".\\\\data\\\\phl_exoplanet_catalog.csv\"))\n",
    "# potentially_habitable_exoplanets = exoplanets_catalog_esi.loc[(exoplanets_catalog_esi['P_calculated_ESI'] >= 0.6)]\n",
    "surviving_extremophiles = data_analysis.identifying_surviving_extremophiles(\".\\\\data\\\\Extremophiles Range.csv\", common_planets)\n",
    "\n",
    "temperature_surviving_extremophiles = surviving_extremophiles[0]\n",
    "pressure_surviving_extremophiles = surviving_extremophiles[1]\n",
    "radiation_surviving_extremophiles = surviving_extremophiles[2]"
   ]
  },
  {
   "cell_type": "markdown",
   "metadata": {},
   "source": [
    "## Thermophiles - Extremophiles that can survive Extreme Temperatures\n",
    "\n",
    "Here is a plot of extremophiles that can surive Extreme Temperatures ranging from 275K (1.85°C or 35.33°F) to 395K (121.85°C or 251.33°F)"
   ]
  },
  {
   "cell_type": "code",
   "execution_count": 14,
   "metadata": {
    "pycharm": {
     "name": "#%%\n"
    }
   },
   "outputs": [
    {
     "data": {
      "image/png": "[encoded data removed]",
      "text/plain": [
       "<Figure size 540x360 with 1 Axes>"
      ]
     },
     "metadata": {
      "needs_background": "light"
     },
     "output_type": "display_data"
    }
   ],
   "source": [
    "fig, ax = plt.subplots()\n",
    "ax.scatter(temperature_surviving_extremophiles.Strain, temperature_surviving_extremophiles.P_NAME, )\n",
    "fig.set_size_inches(7.5, 5)\n",
    "plt.xticks(rotation = 45)\n",
    "plt.show()"
   ]
  },
  {
   "cell_type": "markdown",
   "metadata": {},
   "source": [
    "## Piezophiles or Vaccum Tolerants - Extremophiles that can survive Extreme Pressures\n",
    "\n",
    "Here is a plot of extremophiles that can surive Extreme Pressures ranging from 0.01 Bar to 1250 Bar. For Comparison Earth's Surface Pressure is 1.013 Bar"
   ]
  },
  {
   "cell_type": "code",
   "execution_count": 15,
   "metadata": {
    "pycharm": {
     "name": "#%%\n"
    }
   },
   "outputs": [
    {
     "data": {
      "image/png": "[encoded data removed]",
      "text/plain": [
       "<Figure size 540x360 with 1 Axes>"
      ]
     },
     "metadata": {
      "needs_background": "light"
     },
     "output_type": "display_data"
    }
   ],
   "source": [
    "fig, ax = plt.subplots()\n",
    "ax.scatter(pressure_surviving_extremophiles.Strain, pressure_surviving_extremophiles.P_NAME)\n",
    "fig.set_size_inches(7.5, 5)\n",
    "plt.xticks(rotation = 45)\n",
    "plt.show()"
   ]
  },
  {
   "cell_type": "markdown",
   "metadata": {},
   "source": [
    "## Gammatolerans - Extremophiles that can survive Extreme Radiation\n",
    "\n",
    "Here is a plot of extremophiles that can surive Extreme Radiation from stellar flux ranging upto 5000 W/m^2."
   ]
  },
  {
   "cell_type": "code",
   "execution_count": 16,
   "metadata": {
    "pycharm": {
     "name": "#%%\n"
    }
   },
   "outputs": [
    {
     "data": {
      "image/png": "[encoded data removed]",
      "text/plain": [
       "<Figure size 540x360 with 1 Axes>"
      ]
     },
     "metadata": {
      "needs_background": "light"
     },
     "output_type": "display_data"
    }
   ],
   "source": [
    "fig, ax = plt.subplots()\n",
    "ax.scatter(radiation_surviving_extremophiles.Strain, radiation_surviving_extremophiles.P_NAME)\n",
    "fig.set_size_inches(7.5, 5)\n",
    "plt.xticks(rotation = 45)\n",
    "plt.show()"
   ]
  },
  {
   "cell_type": "markdown",
   "metadata": {},
   "source": [
    "### A Venn diagram combining all three types of extremophiles"
   ]
  },
  {
   "cell_type": "code",
   "execution_count": 17,
   "metadata": {},
   "outputs": [
    {
     "data": {
      "text/html": [
       "<div>\n",
       "<style scoped>\n",
       "    .dataframe tbody tr th:only-of-type {\n",
       "        vertical-align: middle;\n",
       "    }\n",
       "\n",
       "    .dataframe tbody tr th {\n",
       "        vertical-align: top;\n",
       "    }\n",
       "\n",
       "    .dataframe thead th {\n",
       "        text-align: right;\n",
       "    }\n",
       "</style>\n",
       "<table border=\"1\" class=\"dataframe\">\n",
       "  <thead>\n",
       "    <tr style=\"text-align: right;\">\n",
       "      <th></th>\n",
       "      <th>P_NAME</th>\n",
       "    </tr>\n",
       "    <tr>\n",
       "      <th>Strain</th>\n",
       "      <th></th>\n",
       "    </tr>\n",
       "  </thead>\n",
       "  <tbody>\n",
       "    <tr>\n",
       "      <th>C,yomyces antarcticus MA5682</th>\n",
       "      <td>LHS 1140 b, TRAPPIST-1 f</td>\n",
       "    </tr>\n",
       "    <tr>\n",
       "      <th>Colwell/a piezophila ATCC BAA-637</th>\n",
       "      <td>K2-18 b</td>\n",
       "    </tr>\n",
       "    <tr>\n",
       "      <th>Colwell/a sp.MT-41</th>\n",
       "      <td>K2-18 b, TRAPPIST-1 d</td>\n",
       "    </tr>\n",
       "    <tr>\n",
       "      <th>Deinococcus radiodurans Rl</th>\n",
       "      <td>LHS 1140 b, TRAPPIST-1 f</td>\n",
       "    </tr>\n",
       "  </tbody>\n",
       "</table>\n",
       "</div>"
      ],
      "text/plain": [
       "                                                     P_NAME\n",
       "Strain                                                     \n",
       "C,yomyces antarcticus MA5682       LHS 1140 b, TRAPPIST-1 f\n",
       "Colwell/a piezophila ATCC BAA-637                   K2-18 b\n",
       "Colwell/a sp.MT-41                    K2-18 b, TRAPPIST-1 d\n",
       "Deinococcus radiodurans Rl         LHS 1140 b, TRAPPIST-1 f"
      ]
     },
     "execution_count": 17,
     "metadata": {},
     "output_type": "execute_result"
    }
   ],
   "source": [
    "temperature_surviving_extremophiles = temperature_surviving_extremophiles.groupby('Strain').agg({'P_NAME': lambda x: ', '.join(x)})\n",
    "temperature_surviving_extremophiles"
   ]
  },
  {
   "cell_type": "code",
   "execution_count": 18,
   "metadata": {},
   "outputs": [
    {
     "data": {
      "text/html": [
       "<div>\n",
       "<style scoped>\n",
       "    .dataframe tbody tr th:only-of-type {\n",
       "        vertical-align: middle;\n",
       "    }\n",
       "\n",
       "    .dataframe tbody tr th {\n",
       "        vertical-align: top;\n",
       "    }\n",
       "\n",
       "    .dataframe thead th {\n",
       "        text-align: right;\n",
       "    }\n",
       "</style>\n",
       "<table border=\"1\" class=\"dataframe\">\n",
       "  <thead>\n",
       "    <tr style=\"text-align: right;\">\n",
       "      <th></th>\n",
       "      <th>P_NAME</th>\n",
       "    </tr>\n",
       "    <tr>\n",
       "      <th>Strain</th>\n",
       "      <th></th>\n",
       "    </tr>\n",
       "  </thead>\n",
       "  <tbody>\n",
       "    <tr>\n",
       "      <th>Colwell/a piezophila ATCC BAA-637</th>\n",
       "      <td>K2-18 b, LHS 1140 b, TRAPPIST-1 d, TRAPPIST-1 e, TRAPPIST-1 f, TRAPPIST-1 g</td>\n",
       "    </tr>\n",
       "    <tr>\n",
       "      <th>Colwell/a sp.MT-41</th>\n",
       "      <td>K2-18 b, LHS 1140 b, TRAPPIST-1 d, TRAPPIST-1 e, TRAPPIST-1 f, TRAPPIST-1 g</td>\n",
       "    </tr>\n",
       "    <tr>\n",
       "      <th>Methanopyrus kandleri 116</th>\n",
       "      <td>K2-18 b, LHS 1140 b, TRAPPIST-1 d, TRAPPIST-1 e, TRAPPIST-1 f, TRAPPIST-1 g</td>\n",
       "    </tr>\n",
       "    <tr>\n",
       "      <th>Oceanobacillus iheyensis HTE831</th>\n",
       "      <td>TRAPPIST-1 d, TRAPPIST-1 e, TRAPPIST-1 f</td>\n",
       "    </tr>\n",
       "    <tr>\n",
       "      <th>Shewane/18 piezotOlerans\\r\\nWP3</th>\n",
       "      <td>TRAPPIST-1 d, TRAPPIST-1 e, TRAPPIST-1 f</td>\n",
       "    </tr>\n",
       "    <tr>\n",
       "      <th>Thermoooccus piazophilus COGS</th>\n",
       "      <td>TRAPPIST-1 d, TRAPPIST-1 e, TRAPPIST-1 f</td>\n",
       "    </tr>\n",
       "  </tbody>\n",
       "</table>\n",
       "</div>"
      ],
      "text/plain": [
       "                                                                                                        P_NAME\n",
       "Strain                                                                                                        \n",
       "Colwell/a piezophila ATCC BAA-637  K2-18 b, LHS 1140 b, TRAPPIST-1 d, TRAPPIST-1 e, TRAPPIST-1 f, TRAPPIST-1 g\n",
       "Colwell/a sp.MT-41                 K2-18 b, LHS 1140 b, TRAPPIST-1 d, TRAPPIST-1 e, TRAPPIST-1 f, TRAPPIST-1 g\n",
       "Methanopyrus kandleri 116          K2-18 b, LHS 1140 b, TRAPPIST-1 d, TRAPPIST-1 e, TRAPPIST-1 f, TRAPPIST-1 g\n",
       "Oceanobacillus iheyensis HTE831                                       TRAPPIST-1 d, TRAPPIST-1 e, TRAPPIST-1 f\n",
       "Shewane/18 piezotOlerans\\r\\nWP3                                       TRAPPIST-1 d, TRAPPIST-1 e, TRAPPIST-1 f\n",
       "Thermoooccus piazophilus COGS                                         TRAPPIST-1 d, TRAPPIST-1 e, TRAPPIST-1 f"
      ]
     },
     "execution_count": 18,
     "metadata": {},
     "output_type": "execute_result"
    }
   ],
   "source": [
    "pressure_surviving_extremophiles = pressure_surviving_extremophiles.groupby('Strain').agg({'P_NAME': lambda x: ', '.join(x)})\n",
    "pressure_surviving_extremophiles"
   ]
  },
  {
   "cell_type": "code",
   "execution_count": 19,
   "metadata": {},
   "outputs": [
    {
     "data": {
      "text/html": [
       "<div>\n",
       "<style scoped>\n",
       "    .dataframe tbody tr th:only-of-type {\n",
       "        vertical-align: middle;\n",
       "    }\n",
       "\n",
       "    .dataframe tbody tr th {\n",
       "        vertical-align: top;\n",
       "    }\n",
       "\n",
       "    .dataframe thead th {\n",
       "        text-align: right;\n",
       "    }\n",
       "</style>\n",
       "<table border=\"1\" class=\"dataframe\">\n",
       "  <thead>\n",
       "    <tr style=\"text-align: right;\">\n",
       "      <th></th>\n",
       "      <th>P_NAME</th>\n",
       "    </tr>\n",
       "    <tr>\n",
       "      <th>Strain</th>\n",
       "      <th></th>\n",
       "    </tr>\n",
       "  </thead>\n",
       "  <tbody>\n",
       "    <tr>\n",
       "      <th>Deinococcus radiodurans Rl</th>\n",
       "      <td>K2-18 b, LHS 1140 b, TRAPPIST-1 d, TRAPPIST-1 e, TRAPPIST-1 f, TRAPPIST-1 g</td>\n",
       "    </tr>\n",
       "    <tr>\n",
       "      <th>Halobacterium salinarum NRC-1</th>\n",
       "      <td>K2-18 b, LHS 1140 b, TRAPPIST-1 d, TRAPPIST-1 e, TRAPPIST-1 f, TRAPPIST-1 g</td>\n",
       "    </tr>\n",
       "    <tr>\n",
       "      <th>Thermococcus gammatolerans EJ3</th>\n",
       "      <td>K2-18 b, LHS 1140 b, TRAPPIST-1 d, TRAPPIST-1 e, TRAPPIST-1 f, TRAPPIST-1 g</td>\n",
       "    </tr>\n",
       "  </tbody>\n",
       "</table>\n",
       "</div>"
      ],
      "text/plain": [
       "                                                                                                     P_NAME\n",
       "Strain                                                                                                     \n",
       "Deinococcus radiodurans Rl      K2-18 b, LHS 1140 b, TRAPPIST-1 d, TRAPPIST-1 e, TRAPPIST-1 f, TRAPPIST-1 g\n",
       "Halobacterium salinarum NRC-1   K2-18 b, LHS 1140 b, TRAPPIST-1 d, TRAPPIST-1 e, TRAPPIST-1 f, TRAPPIST-1 g\n",
       "Thermococcus gammatolerans EJ3  K2-18 b, LHS 1140 b, TRAPPIST-1 d, TRAPPIST-1 e, TRAPPIST-1 f, TRAPPIST-1 g"
      ]
     },
     "execution_count": 19,
     "metadata": {},
     "output_type": "execute_result"
    }
   ],
   "source": [
    "radiation_surviving_extremophiles = radiation_surviving_extremophiles.groupby('Strain').agg({'P_NAME': lambda x: ', '.join(x)})\n",
    "radiation_surviving_extremophiles"
   ]
  },
  {
   "cell_type": "code",
   "execution_count": 20,
   "metadata": {
    "pycharm": {
     "name": "#%%\n"
    }
   },
   "outputs": [
    {
     "data": {
      "image/png": "[encoded data removed]",
      "text/plain": [
       "<Figure size 720x720 with 1 Axes>"
      ]
     },
     "metadata": {},
     "output_type": "display_data"
    }
   ],
   "source": [
    "plt.figure(figsize=(10,10))\n",
    "plt.title(\"Hypothesis 2 - Proved False - Extremophiles that can survive extreme temperatures can survive extreme pressures and extreme radiation. But, there is no overlap between Piezophiles and Gammatolerans.\")\n",
    "v = vplt.venn3([set(temperature_surviving_extremophiles.index.to_list()),\n",
    "       set(pressure_surviving_extremophiles.index.to_list()),\n",
    "       set(radiation_surviving_extremophiles.index.to_list()),\n",
    "      ],\n",
    "       set_labels=('Temperature Survivng', 'Pressure Surviving', 'Radiation Surviving')\n",
    "     )\n",
    "plt.show()"
   ]
  },
  {
   "cell_type": "markdown",
   "metadata": {},
   "source": [
    "## Conclusion\n",
    "\n",
    "Even though exoplanets fall in the habitable zone of thier respective star they do not necessarily posses earth like conditions and vice a versa. Since there is no overlap between all three parameters considered, there are no potentially habitable exoplanets where an extremophile can survive given all three conditions. Hence proving our hypothesis false.\n",
    "\n",
    "\"The Earth is the only world known so far to harbor life. There is nowhere else, at least in the near future, to which our species could migrate. Visit, yes. Settle, not yet. Like it or not, for the moment the Earth is where we make our stand.\" \n",
    "       - Carl Sagan"
   ]
  },
  {
   "cell_type": "markdown",
   "metadata": {},
   "source": [
    "# NO LIFE BEYOND EARTH!"
   ]
  }
 ],
 "metadata": {
  "kernelspec": {
   "display_name": "Python 3",
   "language": "python",
   "name": "python3"
  },
  "language_info": {
   "codemirror_mode": {
    "name": "ipython",
    "version": 3
   },
   "file_extension": ".py",
   "mimetype": "text/x-python",
   "name": "python",
   "nbconvert_exporter": "python",
   "pygments_lexer": "ipython3",
   "version": "3.8.5"
  }
 },
 "nbformat": 4,
 "nbformat_minor": 4
}